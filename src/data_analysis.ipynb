{
 "cells": [
  {
   "cell_type": "markdown",
   "metadata": {},
   "source": [
    "# Enem Analytics - Análise Exploratória dos Dados\n",
    "- Ubiratan da Motta Filho R.A 20.00928-3\n",
    "- Joao Paulo M Socio 20.00704-3\n",
    "- Luan Teixeira R.A: 20.01681-6\n",
    "- Bruno Davidovitch Bertanha 20.01521-6"
   ]
  },
  {
   "cell_type": "markdown",
   "metadata": {},
   "source": [
    "## Resumo\n",
    "\n",
    "Esse notebook tem como objetivo analisar os dados sócio-demográficos do Enem de 2023, com o intuito de identificar a importância de condições sociais e econômicas na nota dos candidatos."
   ]
  },
  {
   "cell_type": "markdown",
   "metadata": {},
   "source": [
    "## Introdução\n",
    "\n",
    "O Exame Nacional do Ensino Médio (ENEM) é sem dúvidas um dos vestibulares mais importantes do país, por ser uma das principais formas de ingresso em universidades públicas, e alternativa para muitas privadas. Entretanto, vivemos em um dos países mais desiguais do mundo, e a desigualdade social e econômica pode ser um fator determinante para o desempenho dos candidatos. O estudo presente nesse notebook tem o intuito de investigar esses impactos sócio-demográficos, e entender como eles influenciam a nota dos candidatos."
   ]
  },
  {
   "cell_type": "markdown",
   "metadata": {},
   "source": [
    "## Descrição dos Dados\n",
    "\n",
    "Os dados principais utilizados nesse notebook foram extraídos do site do INEP, na seção de microdados do ENEM 2023: https://www.gov.br/inep/pt-br/acesso-a-informacao/dados-abertos/microdados/enem\n",
    "\n",
    "Ao baixar os microdados, utilizamos apenas a base MICRODADOS_ENEM_2023, que contém informações sobre os candidatos, suas notas, e suas condições sócio-demográficas. A base as seguintes colunas:\n",
    "\n",
    "- NU_INSCRICAO: Número de inscrição\n",
    "\n",
    "- NU_ANO: Ano do Enem\n",
    "- TP_FAIXA_ETARIA: Faixa etária\n",
    "- TP_SEXO: Sexo\n",
    "- TP_ESTADO_CIVIL: Estado Civil\n",
    "- TP_COR_RACA: Cor/raça\n",
    "- TP_NACIONALIDADE: Nacionalidade\n",
    "- TP_ST_CONCLUSAO: Situação de conclusão do Ensino Médio\n",
    "- TP_ANO_CONCLUIU: Ano de Conclusão do Ensino Médio\n",
    "- TP_ESCOLA: Tipo de escola do Ensino Médio\n",
    "- TP_ENSINO: Tipo de instituição que concluiu ou concluirá o Ensino Médio\n",
    "- IN_TREINEIRO: Indica se o inscrito fez a prova com intuito de apenas treinar seus conhecimentos\n",
    "- CO_MUNICIPIO_ESC: Código do município da escola\n",
    "- NO_MUNICIPIO_ESC: Nome do município da escola\n",
    "- CO_UF_ESC: Código da Unidade da Federação da escola\n",
    "- SG_UF_ESC: Sigla da Unidade da Federação da escola\n",
    "- TP_DEPENDENCIA_ADM_ESC: Dependência administrativa (Escola)\n",
    "- TP_LOCALIZACAO_ESC: Localização (Escola)\n",
    "- TP_SIT_FUNC_ESC: Situação de funcionamento (Escola)\n",
    "- CO_MUNICIPIO_PROVA: Código do município da aplicação da prova\n",
    "- NO_MUNICIPIO_PROVA: Nome do município da aplicação da prova\n",
    "- CO_UF_PROVA: Código da Unidade da Federação da aplicação da prova\n",
    "- SG_UF_PROVA: Sigla da Unidade da Federação da aplicação da prova\n",
    "- TP_PRESENCA_CN: Presença na prova objetiva de Ciências da Natureza\n",
    "- TP_PRESENCA_CH: Presença na prova objetiva de Ciências Humanas\n",
    "- TP_PRESENCA_LC: Presença na prova objetiva de Linguagens e Códigos\n",
    "- TP_PRESENCA_MT: Presença na prova objetiva de Matemática\n",
    "- CO_PROVA_CN: Código do tipo de prova de Ciências da Natureza\n",
    "- CO_PROVA_CH: Código do tipo de prova de Ciências Humanas\n",
    "- CO_PROVA_LC: Código do tipo de prova de Linguagens e Códigos\n",
    "- CO_PROVA_MT: Código do tipo de prova de Matemática\n",
    "- NU_NOTA_CN: Nota da prova de Ciências da Natureza\n",
    "- NU_NOTA_CH: Nota da prova de Ciências Humanas\n",
    "- NU_NOTA_LC: Nota da prova de Linguagens e Códigos\n",
    "- NU_NOTA_MT: Nota da prova de Matemática\n",
    "- TX_RESPOSTAS_CN: Vetor com as respostas da parte objetiva da prova de Ciências da Natureza\n",
    "- TX_RESPOSTAS_CH: Vetor com as respostas da parte objetiva da prova de Ciências Humanas\n",
    "- TX_RESPOSTAS_LC: Vetor com as respostas da parte objetiva da prova de Linguagens e Códigos\n",
    "- TX_RESPOSTAS_MT: Vetor com as respostas da parte objetiva da prova de Matemática\n",
    "- TP_LINGUA: Língua Estrangeira\n",
    "- TP_STATUS_REDACAO: Situação da redação do participante\n",
    "- NU_NOTA_COMP1: Nota da competência 1 da redação\n",
    "- NU_NOTA_COMP2: Nota da competência 2 da redação\n",
    "- NU_NOTA_COMP3: Nota da competência 3 da redação\n",
    "- NU_NOTA_COMP4: Nota da competência 4 da redação\n",
    "- NU_NOTA_COMP5: Nota da competência 5 da redação\n",
    "- NU_NOTA_REDACAO: Nota da prova de redação\n",
    "- Q001: Até que série seu pai, ou o homem responsável por você, estudou?\n",
    "- Q002: Até que série sua mãe, ou a mulher responsável por você, estudou?\n",
    "- Q003: A partir da apresentação de algumas ocupações divididas em grupos ordenados, indique o grupo que contempla a ocupação mais próxima da ocupação do seu pai ou do homem responsável por você. (Se ele não estiver trabalhando, escolha uma ocupação pensando no último trabalho dele).\n",
    "- Q004: A partir da apresentação de algumas ocupações divididas em grupos ordenados, indique o grupo que contempla a ocupação mais próxima da ocupação da sua mãe ou da mulher responsável por você. (Se ela não estiver trabalhando, escolha uma ocupação pensando no último trabalho dela).\n",
    "- Q005: Incluindo você, quantas pessoas moram atualmente em sua residência?\n",
    "- Q006: Qual é a renda mensal de sua família? (Some a sua renda com a dos seus familiares.)\n",
    "- Q007: Em sua residência trabalha empregado(a) doméstico(a)?\n",
    "- Q008: Na sua residência tem banheiro?\n",
    "- Q009: Na sua residência tem quartos para dormir?\n",
    "- Q010: Na sua residência tem carro?\n",
    "- Q011: Na sua residência tem motocicleta?\n",
    "- Q012: Na sua residência tem geladeira?\n",
    "- Q013: Na sua residência tem freezer (independente ou segunda porta da geladeira)?\n",
    "- Q014: Na sua residência tem máquina de lavar roupa? (o tanquinho NÃO deve ser considerado)\n",
    "- Q015: Na sua residência tem máquina de secar roupa (independente ou em conjunto com a máquina de lavar roupa)?\n",
    "- Q016: Na sua residência tem forno micro-ondas?\n",
    "- Q017: Na sua residência tem máquina de lavar louça?\n",
    "- Q018: Na sua residência tem aspirador de pó?\n",
    "- Q019: Na sua residência tem televisão em cores?\n",
    "- Q020: Na sua residência tem aparelho de DVD?\n",
    "- Q021: Na sua residência tem TV por assinatura?\n",
    "- Q022: Na sua residência tem telefone celular?\n",
    "- Q023: Na sua residência tem telefone fixo?\n",
    "- Q024: Na sua residência tem computador?\n",
    "- Q025: Na sua residência tem acesso à Internet?\n",
    "\n",
    "Além da base de microdados do ENEM, será utilizada uma base complementar com informações sobre o IDH dos municípios brasileiros, que foi extraída do site do Atlas Brasil: http://www.atlasbrasil.org.br/consulta/planilha"
   ]
  },
  {
   "cell_type": "markdown",
   "metadata": {},
   "source": [
    "## Aquisição e Preparação dos Dados"
   ]
  },
  {
   "cell_type": "markdown",
   "metadata": {},
   "source": [
    "### Dependências"
   ]
  },
  {
   "cell_type": "code",
   "execution_count": 1,
   "metadata": {},
   "outputs": [],
   "source": [
    "import pandas as pd\n",
    "import plotly.express as px"
   ]
  },
  {
   "cell_type": "markdown",
   "metadata": {},
   "source": [
    "### Lendo Dados"
   ]
  },
  {
   "cell_type": "code",
   "execution_count": 2,
   "metadata": {},
   "outputs": [
    {
     "data": {
      "text/html": [
       "<div>\n",
       "<style scoped>\n",
       "    .dataframe tbody tr th:only-of-type {\n",
       "        vertical-align: middle;\n",
       "    }\n",
       "\n",
       "    .dataframe tbody tr th {\n",
       "        vertical-align: top;\n",
       "    }\n",
       "\n",
       "    .dataframe thead th {\n",
       "        text-align: right;\n",
       "    }\n",
       "</style>\n",
       "<table border=\"1\" class=\"dataframe\">\n",
       "  <thead>\n",
       "    <tr style=\"text-align: right;\">\n",
       "      <th></th>\n",
       "      <th>NU_INSCRICAO</th>\n",
       "      <th>NU_ANO</th>\n",
       "      <th>TP_FAIXA_ETARIA</th>\n",
       "      <th>TP_SEXO</th>\n",
       "      <th>TP_ESTADO_CIVIL</th>\n",
       "      <th>TP_COR_RACA</th>\n",
       "      <th>TP_NACIONALIDADE</th>\n",
       "      <th>TP_ST_CONCLUSAO</th>\n",
       "      <th>TP_ANO_CONCLUIU</th>\n",
       "      <th>TP_ESCOLA</th>\n",
       "      <th>...</th>\n",
       "      <th>Q016</th>\n",
       "      <th>Q017</th>\n",
       "      <th>Q018</th>\n",
       "      <th>Q019</th>\n",
       "      <th>Q020</th>\n",
       "      <th>Q021</th>\n",
       "      <th>Q022</th>\n",
       "      <th>Q023</th>\n",
       "      <th>Q024</th>\n",
       "      <th>Q025</th>\n",
       "    </tr>\n",
       "  </thead>\n",
       "  <tbody>\n",
       "    <tr>\n",
       "      <th>0</th>\n",
       "      <td>210059085136</td>\n",
       "      <td>2023</td>\n",
       "      <td>14</td>\n",
       "      <td>M</td>\n",
       "      <td>2</td>\n",
       "      <td>1</td>\n",
       "      <td>1</td>\n",
       "      <td>1</td>\n",
       "      <td>17</td>\n",
       "      <td>1</td>\n",
       "      <td>...</td>\n",
       "      <td>C</td>\n",
       "      <td>C</td>\n",
       "      <td>B</td>\n",
       "      <td>B</td>\n",
       "      <td>A</td>\n",
       "      <td>B</td>\n",
       "      <td>B</td>\n",
       "      <td>A</td>\n",
       "      <td>A</td>\n",
       "      <td>B</td>\n",
       "    </tr>\n",
       "    <tr>\n",
       "      <th>1</th>\n",
       "      <td>210059527735</td>\n",
       "      <td>2023</td>\n",
       "      <td>12</td>\n",
       "      <td>M</td>\n",
       "      <td>2</td>\n",
       "      <td>1</td>\n",
       "      <td>0</td>\n",
       "      <td>1</td>\n",
       "      <td>16</td>\n",
       "      <td>1</td>\n",
       "      <td>...</td>\n",
       "      <td>B</td>\n",
       "      <td>A</td>\n",
       "      <td>B</td>\n",
       "      <td>B</td>\n",
       "      <td>A</td>\n",
       "      <td>A</td>\n",
       "      <td>C</td>\n",
       "      <td>A</td>\n",
       "      <td>D</td>\n",
       "      <td>B</td>\n",
       "    </tr>\n",
       "    <tr>\n",
       "      <th>2</th>\n",
       "      <td>210061103945</td>\n",
       "      <td>2023</td>\n",
       "      <td>6</td>\n",
       "      <td>F</td>\n",
       "      <td>1</td>\n",
       "      <td>1</td>\n",
       "      <td>1</td>\n",
       "      <td>1</td>\n",
       "      <td>0</td>\n",
       "      <td>1</td>\n",
       "      <td>...</td>\n",
       "      <td>B</td>\n",
       "      <td>A</td>\n",
       "      <td>A</td>\n",
       "      <td>B</td>\n",
       "      <td>A</td>\n",
       "      <td>A</td>\n",
       "      <td>A</td>\n",
       "      <td>A</td>\n",
       "      <td>A</td>\n",
       "      <td>B</td>\n",
       "    </tr>\n",
       "    <tr>\n",
       "      <th>3</th>\n",
       "      <td>210060214087</td>\n",
       "      <td>2023</td>\n",
       "      <td>2</td>\n",
       "      <td>F</td>\n",
       "      <td>1</td>\n",
       "      <td>3</td>\n",
       "      <td>1</td>\n",
       "      <td>2</td>\n",
       "      <td>0</td>\n",
       "      <td>2</td>\n",
       "      <td>...</td>\n",
       "      <td>A</td>\n",
       "      <td>A</td>\n",
       "      <td>A</td>\n",
       "      <td>B</td>\n",
       "      <td>A</td>\n",
       "      <td>A</td>\n",
       "      <td>D</td>\n",
       "      <td>A</td>\n",
       "      <td>A</td>\n",
       "      <td>B</td>\n",
       "    </tr>\n",
       "    <tr>\n",
       "      <th>4</th>\n",
       "      <td>210059980948</td>\n",
       "      <td>2023</td>\n",
       "      <td>3</td>\n",
       "      <td>F</td>\n",
       "      <td>1</td>\n",
       "      <td>3</td>\n",
       "      <td>1</td>\n",
       "      <td>2</td>\n",
       "      <td>0</td>\n",
       "      <td>2</td>\n",
       "      <td>...</td>\n",
       "      <td>A</td>\n",
       "      <td>A</td>\n",
       "      <td>A</td>\n",
       "      <td>B</td>\n",
       "      <td>A</td>\n",
       "      <td>A</td>\n",
       "      <td>B</td>\n",
       "      <td>A</td>\n",
       "      <td>A</td>\n",
       "      <td>A</td>\n",
       "    </tr>\n",
       "  </tbody>\n",
       "</table>\n",
       "<p>5 rows × 76 columns</p>\n",
       "</div>"
      ],
      "text/plain": [
       "   NU_INSCRICAO  NU_ANO  TP_FAIXA_ETARIA TP_SEXO  TP_ESTADO_CIVIL  \\\n",
       "0  210059085136    2023               14       M                2   \n",
       "1  210059527735    2023               12       M                2   \n",
       "2  210061103945    2023                6       F                1   \n",
       "3  210060214087    2023                2       F                1   \n",
       "4  210059980948    2023                3       F                1   \n",
       "\n",
       "   TP_COR_RACA  TP_NACIONALIDADE  TP_ST_CONCLUSAO  TP_ANO_CONCLUIU  TP_ESCOLA  \\\n",
       "0            1                 1                1               17          1   \n",
       "1            1                 0                1               16          1   \n",
       "2            1                 1                1                0          1   \n",
       "3            3                 1                2                0          2   \n",
       "4            3                 1                2                0          2   \n",
       "\n",
       "   ...  Q016  Q017  Q018 Q019  Q020 Q021  Q022  Q023  Q024  Q025  \n",
       "0  ...     C     C     B    B     A    B     B     A     A     B  \n",
       "1  ...     B     A     B    B     A    A     C     A     D     B  \n",
       "2  ...     B     A     A    B     A    A     A     A     A     B  \n",
       "3  ...     A     A     A    B     A    A     D     A     A     B  \n",
       "4  ...     A     A     A    B     A    A     B     A     A     A  \n",
       "\n",
       "[5 rows x 76 columns]"
      ]
     },
     "execution_count": 2,
     "metadata": {},
     "output_type": "execute_result"
    }
   ],
   "source": [
    "df = pd.read_csv('../data/microdados_enem_2023/DADOS/MICRODADOS_ENEM_2023.csv', encoding='latin1', sep=';')\n",
    "\n",
    "df.head()"
   ]
  },
  {
   "cell_type": "markdown",
   "metadata": {},
   "source": [
    "## Análise\n",
    "1. O quanto a renda familiar influencia na nota dos candidatos?\n",
    "2. Em quais áreas do conhecimento a renda familiar tem maior impacto?\n",
    "3. Como as densidades de probabilidade das notas variam entre diferentes disciplinas?\n",
    "4. Quais áreas do conhecimento mais estão relacionadas entre si?\n",
    "5. Qual a relação entre a nota dos candidatos e o IDH do município onde moram?\n",
    "6. Qual a relação entre a renda familiar e o IDH do município onde moram?"
   ]
  },
  {
   "cell_type": "markdown",
   "metadata": {},
   "source": [
    "### 1. O quanto a renda familiar influencia na nota dos candidatos?"
   ]
  },
  {
   "cell_type": "code",
   "execution_count": 5,
   "metadata": {},
   "outputs": [],
   "source": [
    "income_mapping = {\n",
    "    'A': '00 - Nenhuma renda',\n",
    "    'B': '01 - Até R$ 998,00',\n",
    "    'C': '02 - De R$ 998,01 até R$ 1.497,00',\n",
    "    'D': '03 - De R$ 1.497,01 até R$ 1.996,00',\n",
    "    'E': '04 - De R$ 1.996,01 até R$ 2.495,00',\n",
    "    'F': '05 - De R$ 2.495,01 até R$ 2.994,00',\n",
    "    'G': '06 - De R$ 2.994,01 até R$ 3.992,00',\n",
    "    'H': '07 - De R$ 3.992,01 até R$ 4.990,00',\n",
    "    'I': '08 - De R$ 4.990,01 até R$ 5.988,00',\n",
    "    'J': '09 - De R$ 5.988,01 até R$ 6.986,00',\n",
    "    'K': '10 - De R$ 6.986,01 até R$ 7.984,00',\n",
    "    'L': '11 - De R$ 7.984,01 até R$ 8.982,00',\n",
    "    'M': '12 - De R$ 8.982,01 até R$ 9.980,00',\n",
    "    'N': '13 - De R$ 9.980,01 até R$ 11.976,00',\n",
    "    'O': '14 - De R$ 11.976,01 até R$ 14.970,00',\n",
    "    'P': '15 - De R$ 14.970,01 até R$ 19.960,00',\n",
    "    'Q': '16 - Mais de R$ 19.960,00'\n",
    "}\n",
    "\n",
    "df['range_receita'] = df['Q006'].map(income_mapping)\n",
    "\n",
    "avg_score_by_income = df.groupby('range_receita')[['NU_NOTA_REDACAO', 'NU_NOTA_CN', 'NU_NOTA_CH', 'NU_NOTA_LC', 'NU_NOTA_MT']].mean().reset_index()"
   ]
  },
  {
   "cell_type": "code",
   "execution_count": 32,
   "metadata": {},
   "outputs": [
    {
     "data": {
      "application/vnd.plotly.v1+json": {
       "config": {
        "plotlyServerURL": "https://plot.ly"
       },
       "data": [
        {
         "hovertemplate": "Disciplina=Ciências da Natureza<br>Faixa de Renda Familiar=%{x}<br>Nota Média=%{y}<extra></extra>",
         "legendgroup": "Ciências da Natureza",
         "line": {
          "color": "#636efa",
          "dash": "solid"
         },
         "marker": {
          "symbol": "circle"
         },
         "mode": "lines+markers",
         "name": "Ciências da Natureza",
         "orientation": "v",
         "showlegend": true,
         "type": "scatter",
         "x": [
          "00 - Nenhuma renda",
          "01 - Até R$ 998,00",
          "02 - De R$ 998,01 até R$ 1.497,00",
          "03 - De R$ 1.497,01 até R$ 1.996,00",
          "04 - De R$ 1.996,01 até R$ 2.495,00",
          "05 - De R$ 2.495,01 até R$ 2.994,00",
          "06 - De R$ 2.994,01 até R$ 3.992,00",
          "07 - De R$ 3.992,01 até R$ 4.990,00",
          "08 - De R$ 4.990,01 até R$ 5.988,00",
          "09 - De R$ 5.988,01 até R$ 6.986,00",
          "10 - De R$ 6.986,01 até R$ 7.984,00",
          "11 - De R$ 7.984,01 até R$ 8.982,00",
          "12 - De R$ 8.982,01 até R$ 9.980,00",
          "13 - De R$ 9.980,01 até R$ 11.976,00",
          "14 - De R$ 11.976,01 até R$ 14.970,00",
          "15 - De R$ 14.970,01 até R$ 19.960,00",
          "16 - Mais de R$ 19.960,00"
         ],
         "xaxis": "x",
         "y": [
          452.9262023725201,
          464.10358079015003,
          483.15494948815785,
          494.50598036048405,
          504.5190182182867,
          513.5573547715406,
          522.9322301405559,
          532.623167916907,
          539.3639904245865,
          546.0180532258064,
          550.4343317275714,
          554.1569517583681,
          560.9659127911092,
          562.4261051185946,
          567.4498114728146,
          573.6716847995027,
          576.9929834097462
         ],
         "yaxis": "y"
        },
        {
         "hovertemplate": "Disciplina=Ciências Humanas<br>Faixa de Renda Familiar=%{x}<br>Nota Média=%{y}<extra></extra>",
         "legendgroup": "Ciências Humanas",
         "line": {
          "color": "#EF553B",
          "dash": "solid"
         },
         "marker": {
          "symbol": "circle"
         },
         "mode": "lines+markers",
         "name": "Ciências Humanas",
         "orientation": "v",
         "showlegend": true,
         "type": "scatter",
         "x": [
          "00 - Nenhuma renda",
          "01 - Até R$ 998,00",
          "02 - De R$ 998,01 até R$ 1.497,00",
          "03 - De R$ 1.497,01 até R$ 1.996,00",
          "04 - De R$ 1.996,01 até R$ 2.495,00",
          "05 - De R$ 2.495,01 até R$ 2.994,00",
          "06 - De R$ 2.994,01 até R$ 3.992,00",
          "07 - De R$ 3.992,01 até R$ 4.990,00",
          "08 - De R$ 4.990,01 até R$ 5.988,00",
          "09 - De R$ 5.988,01 até R$ 6.986,00",
          "10 - De R$ 6.986,01 até R$ 7.984,00",
          "11 - De R$ 7.984,01 até R$ 8.982,00",
          "12 - De R$ 8.982,01 até R$ 9.980,00",
          "13 - De R$ 9.980,01 até R$ 11.976,00",
          "14 - De R$ 11.976,01 até R$ 14.970,00",
          "15 - De R$ 14.970,01 até R$ 19.960,00",
          "16 - Mais de R$ 19.960,00"
         ],
         "xaxis": "x",
         "y": [
          475.88582761461987,
          490.7860497384349,
          513.34164683755,
          525.5082185455944,
          535.2234381389432,
          543.8067621948926,
          552.9095470950663,
          561.1923028709717,
          567.1400186255977,
          573.0290632292825,
          575.4046090341765,
          577.5742772532692,
          585.117053596032,
          585.4005192425168,
          588.7786001227473,
          594.0403264594481,
          594.6432633916432
         ],
         "yaxis": "y"
        },
        {
         "hovertemplate": "Disciplina=Linguagens e Códigos<br>Faixa de Renda Familiar=%{x}<br>Nota Média=%{y}<extra></extra>",
         "legendgroup": "Linguagens e Códigos",
         "line": {
          "color": "#00cc96",
          "dash": "solid"
         },
         "marker": {
          "symbol": "circle"
         },
         "mode": "lines+markers",
         "name": "Linguagens e Códigos",
         "orientation": "v",
         "showlegend": true,
         "type": "scatter",
         "x": [
          "00 - Nenhuma renda",
          "01 - Até R$ 998,00",
          "02 - De R$ 998,01 até R$ 1.497,00",
          "03 - De R$ 1.497,01 até R$ 1.996,00",
          "04 - De R$ 1.996,01 até R$ 2.495,00",
          "05 - De R$ 2.495,01 até R$ 2.994,00",
          "06 - De R$ 2.994,01 até R$ 3.992,00",
          "07 - De R$ 3.992,01 até R$ 4.990,00",
          "08 - De R$ 4.990,01 até R$ 5.988,00",
          "09 - De R$ 5.988,01 até R$ 6.986,00",
          "10 - De R$ 6.986,01 até R$ 7.984,00",
          "11 - De R$ 7.984,01 até R$ 8.982,00",
          "12 - De R$ 8.982,01 até R$ 9.980,00",
          "13 - De R$ 9.980,01 até R$ 11.976,00",
          "14 - De R$ 11.976,01 até R$ 14.970,00",
          "15 - De R$ 14.970,01 até R$ 19.960,00",
          "16 - Mais de R$ 19.960,00"
         ],
         "xaxis": "x",
         "y": [
          474.05117912754787,
          489.493969027596,
          510.2713870969946,
          521.0130700910607,
          529.8289040846927,
          536.8002181353191,
          544.1651622211007,
          550.9698591500253,
          555.871962915601,
          560.4792973828058,
          562.3777921239509,
          564.7006039992963,
          570.3349510884541,
          570.6020658632755,
          573.763491045026,
          578.6673300066133,
          578.428457808393
         ],
         "yaxis": "y"
        },
        {
         "hovertemplate": "Disciplina=Matemática<br>Faixa de Renda Familiar=%{x}<br>Nota Média=%{y}<extra></extra>",
         "legendgroup": "Matemática",
         "line": {
          "color": "#ab63fa",
          "dash": "solid"
         },
         "marker": {
          "symbol": "circle"
         },
         "mode": "lines+markers",
         "name": "Matemática",
         "orientation": "v",
         "showlegend": true,
         "type": "scatter",
         "x": [
          "00 - Nenhuma renda",
          "01 - Até R$ 998,00",
          "02 - De R$ 998,01 até R$ 1.497,00",
          "03 - De R$ 1.497,01 até R$ 1.996,00",
          "04 - De R$ 1.996,01 até R$ 2.495,00",
          "05 - De R$ 2.495,01 até R$ 2.994,00",
          "06 - De R$ 2.994,01 até R$ 3.992,00",
          "07 - De R$ 3.992,01 até R$ 4.990,00",
          "08 - De R$ 4.990,01 até R$ 5.988,00",
          "09 - De R$ 5.988,01 até R$ 6.986,00",
          "10 - De R$ 6.986,01 até R$ 7.984,00",
          "11 - De R$ 7.984,01 até R$ 8.982,00",
          "12 - De R$ 8.982,01 até R$ 9.980,00",
          "13 - De R$ 9.980,01 até R$ 11.976,00",
          "14 - De R$ 11.976,01 até R$ 14.970,00",
          "15 - De R$ 14.970,01 até R$ 19.960,00",
          "16 - Mais de R$ 19.960,00"
         ],
         "xaxis": "x",
         "y": [
          454.68635067098035,
          476.6045710938517,
          510.24680371820943,
          530.6952492966657,
          549.6045628894498,
          568.1742976351695,
          584.2870587886923,
          602.1723420369301,
          613.4133984117428,
          624.4378838709677,
          632.8038235946224,
          640.104324798741,
          649.7136794790118,
          654.0258161425996,
          663.0232248222663,
          674.1994964252409,
          685.8191993193742
         ],
         "yaxis": "y"
        },
        {
         "hovertemplate": "Disciplina=Redação<br>Faixa de Renda Familiar=%{x}<br>Nota Média=%{y}<extra></extra>",
         "legendgroup": "Redação",
         "line": {
          "color": "#FFA15A",
          "dash": "solid"
         },
         "marker": {
          "symbol": "circle"
         },
         "mode": "lines+markers",
         "name": "Redação",
         "orientation": "v",
         "showlegend": true,
         "type": "scatter",
         "x": [
          "00 - Nenhuma renda",
          "01 - Até R$ 998,00",
          "02 - De R$ 998,01 até R$ 1.497,00",
          "03 - De R$ 1.497,01 até R$ 1.996,00",
          "04 - De R$ 1.996,01 até R$ 2.495,00",
          "05 - De R$ 2.495,01 até R$ 2.994,00",
          "06 - De R$ 2.994,01 até R$ 3.992,00",
          "07 - De R$ 3.992,01 até R$ 4.990,00",
          "08 - De R$ 4.990,01 até R$ 5.988,00",
          "09 - De R$ 5.988,01 até R$ 6.986,00",
          "10 - De R$ 6.986,01 até R$ 7.984,00",
          "11 - De R$ 7.984,01 até R$ 8.982,00",
          "12 - De R$ 8.982,01 até R$ 9.980,00",
          "13 - De R$ 9.980,01 até R$ 11.976,00",
          "14 - De R$ 11.976,01 até R$ 14.970,00",
          "15 - De R$ 14.970,01 até R$ 19.960,00",
          "16 - Mais de R$ 19.960,00"
         ],
         "xaxis": "x",
         "y": [
          521.4269819026024,
          559.0346966279109,
          592.0367785522202,
          613.9383737334872,
          635.8398836839475,
          654.0381360713077,
          674.4010627458076,
          693.646430001567,
          708.9541865895696,
          720.681316271712,
          728.7512960463251,
          735.1457221603237,
          744.2725268669055,
          749.5585050258233,
          756.1859063772806,
          765.8636445620152,
          769.8341339617511
         ],
         "yaxis": "y"
        }
       ],
       "layout": {
        "annotations": [
         {
          "font": {
           "size": 12
          },
          "showarrow": false,
          "text": "Renda média (IBGE 2023)",
          "x": "03 - De R$ 1.497,01 até R$ 1.996,00",
          "xshift": 85,
          "y": 750
         }
        ],
        "height": 800,
        "legend": {
         "title": {
          "text": "Disciplina"
         },
         "tracegroupgap": 0
        },
        "shapes": [
         {
          "line": {
           "color": "black",
           "dash": "dash"
          },
          "type": "line",
          "x0": "03 - De R$ 1.497,01 até R$ 1.996,00",
          "x1": "03 - De R$ 1.497,01 até R$ 1.996,00",
          "xref": "x",
          "y0": 0,
          "y1": 1,
          "yref": "y domain"
         }
        ],
        "template": {
         "data": {
          "bar": [
           {
            "error_x": {
             "color": "#2a3f5f"
            },
            "error_y": {
             "color": "#2a3f5f"
            },
            "marker": {
             "line": {
              "color": "#E5ECF6",
              "width": 0.5
             },
             "pattern": {
              "fillmode": "overlay",
              "size": 10,
              "solidity": 0.2
             }
            },
            "type": "bar"
           }
          ],
          "barpolar": [
           {
            "marker": {
             "line": {
              "color": "#E5ECF6",
              "width": 0.5
             },
             "pattern": {
              "fillmode": "overlay",
              "size": 10,
              "solidity": 0.2
             }
            },
            "type": "barpolar"
           }
          ],
          "carpet": [
           {
            "aaxis": {
             "endlinecolor": "#2a3f5f",
             "gridcolor": "white",
             "linecolor": "white",
             "minorgridcolor": "white",
             "startlinecolor": "#2a3f5f"
            },
            "baxis": {
             "endlinecolor": "#2a3f5f",
             "gridcolor": "white",
             "linecolor": "white",
             "minorgridcolor": "white",
             "startlinecolor": "#2a3f5f"
            },
            "type": "carpet"
           }
          ],
          "choropleth": [
           {
            "colorbar": {
             "outlinewidth": 0,
             "ticks": ""
            },
            "type": "choropleth"
           }
          ],
          "contour": [
           {
            "colorbar": {
             "outlinewidth": 0,
             "ticks": ""
            },
            "colorscale": [
             [
              0,
              "#0d0887"
             ],
             [
              0.1111111111111111,
              "#46039f"
             ],
             [
              0.2222222222222222,
              "#7201a8"
             ],
             [
              0.3333333333333333,
              "#9c179e"
             ],
             [
              0.4444444444444444,
              "#bd3786"
             ],
             [
              0.5555555555555556,
              "#d8576b"
             ],
             [
              0.6666666666666666,
              "#ed7953"
             ],
             [
              0.7777777777777778,
              "#fb9f3a"
             ],
             [
              0.8888888888888888,
              "#fdca26"
             ],
             [
              1,
              "#f0f921"
             ]
            ],
            "type": "contour"
           }
          ],
          "contourcarpet": [
           {
            "colorbar": {
             "outlinewidth": 0,
             "ticks": ""
            },
            "type": "contourcarpet"
           }
          ],
          "heatmap": [
           {
            "colorbar": {
             "outlinewidth": 0,
             "ticks": ""
            },
            "colorscale": [
             [
              0,
              "#0d0887"
             ],
             [
              0.1111111111111111,
              "#46039f"
             ],
             [
              0.2222222222222222,
              "#7201a8"
             ],
             [
              0.3333333333333333,
              "#9c179e"
             ],
             [
              0.4444444444444444,
              "#bd3786"
             ],
             [
              0.5555555555555556,
              "#d8576b"
             ],
             [
              0.6666666666666666,
              "#ed7953"
             ],
             [
              0.7777777777777778,
              "#fb9f3a"
             ],
             [
              0.8888888888888888,
              "#fdca26"
             ],
             [
              1,
              "#f0f921"
             ]
            ],
            "type": "heatmap"
           }
          ],
          "heatmapgl": [
           {
            "colorbar": {
             "outlinewidth": 0,
             "ticks": ""
            },
            "colorscale": [
             [
              0,
              "#0d0887"
             ],
             [
              0.1111111111111111,
              "#46039f"
             ],
             [
              0.2222222222222222,
              "#7201a8"
             ],
             [
              0.3333333333333333,
              "#9c179e"
             ],
             [
              0.4444444444444444,
              "#bd3786"
             ],
             [
              0.5555555555555556,
              "#d8576b"
             ],
             [
              0.6666666666666666,
              "#ed7953"
             ],
             [
              0.7777777777777778,
              "#fb9f3a"
             ],
             [
              0.8888888888888888,
              "#fdca26"
             ],
             [
              1,
              "#f0f921"
             ]
            ],
            "type": "heatmapgl"
           }
          ],
          "histogram": [
           {
            "marker": {
             "pattern": {
              "fillmode": "overlay",
              "size": 10,
              "solidity": 0.2
             }
            },
            "type": "histogram"
           }
          ],
          "histogram2d": [
           {
            "colorbar": {
             "outlinewidth": 0,
             "ticks": ""
            },
            "colorscale": [
             [
              0,
              "#0d0887"
             ],
             [
              0.1111111111111111,
              "#46039f"
             ],
             [
              0.2222222222222222,
              "#7201a8"
             ],
             [
              0.3333333333333333,
              "#9c179e"
             ],
             [
              0.4444444444444444,
              "#bd3786"
             ],
             [
              0.5555555555555556,
              "#d8576b"
             ],
             [
              0.6666666666666666,
              "#ed7953"
             ],
             [
              0.7777777777777778,
              "#fb9f3a"
             ],
             [
              0.8888888888888888,
              "#fdca26"
             ],
             [
              1,
              "#f0f921"
             ]
            ],
            "type": "histogram2d"
           }
          ],
          "histogram2dcontour": [
           {
            "colorbar": {
             "outlinewidth": 0,
             "ticks": ""
            },
            "colorscale": [
             [
              0,
              "#0d0887"
             ],
             [
              0.1111111111111111,
              "#46039f"
             ],
             [
              0.2222222222222222,
              "#7201a8"
             ],
             [
              0.3333333333333333,
              "#9c179e"
             ],
             [
              0.4444444444444444,
              "#bd3786"
             ],
             [
              0.5555555555555556,
              "#d8576b"
             ],
             [
              0.6666666666666666,
              "#ed7953"
             ],
             [
              0.7777777777777778,
              "#fb9f3a"
             ],
             [
              0.8888888888888888,
              "#fdca26"
             ],
             [
              1,
              "#f0f921"
             ]
            ],
            "type": "histogram2dcontour"
           }
          ],
          "mesh3d": [
           {
            "colorbar": {
             "outlinewidth": 0,
             "ticks": ""
            },
            "type": "mesh3d"
           }
          ],
          "parcoords": [
           {
            "line": {
             "colorbar": {
              "outlinewidth": 0,
              "ticks": ""
             }
            },
            "type": "parcoords"
           }
          ],
          "pie": [
           {
            "automargin": true,
            "type": "pie"
           }
          ],
          "scatter": [
           {
            "fillpattern": {
             "fillmode": "overlay",
             "size": 10,
             "solidity": 0.2
            },
            "type": "scatter"
           }
          ],
          "scatter3d": [
           {
            "line": {
             "colorbar": {
              "outlinewidth": 0,
              "ticks": ""
             }
            },
            "marker": {
             "colorbar": {
              "outlinewidth": 0,
              "ticks": ""
             }
            },
            "type": "scatter3d"
           }
          ],
          "scattercarpet": [
           {
            "marker": {
             "colorbar": {
              "outlinewidth": 0,
              "ticks": ""
             }
            },
            "type": "scattercarpet"
           }
          ],
          "scattergeo": [
           {
            "marker": {
             "colorbar": {
              "outlinewidth": 0,
              "ticks": ""
             }
            },
            "type": "scattergeo"
           }
          ],
          "scattergl": [
           {
            "marker": {
             "colorbar": {
              "outlinewidth": 0,
              "ticks": ""
             }
            },
            "type": "scattergl"
           }
          ],
          "scattermapbox": [
           {
            "marker": {
             "colorbar": {
              "outlinewidth": 0,
              "ticks": ""
             }
            },
            "type": "scattermapbox"
           }
          ],
          "scatterpolar": [
           {
            "marker": {
             "colorbar": {
              "outlinewidth": 0,
              "ticks": ""
             }
            },
            "type": "scatterpolar"
           }
          ],
          "scatterpolargl": [
           {
            "marker": {
             "colorbar": {
              "outlinewidth": 0,
              "ticks": ""
             }
            },
            "type": "scatterpolargl"
           }
          ],
          "scatterternary": [
           {
            "marker": {
             "colorbar": {
              "outlinewidth": 0,
              "ticks": ""
             }
            },
            "type": "scatterternary"
           }
          ],
          "surface": [
           {
            "colorbar": {
             "outlinewidth": 0,
             "ticks": ""
            },
            "colorscale": [
             [
              0,
              "#0d0887"
             ],
             [
              0.1111111111111111,
              "#46039f"
             ],
             [
              0.2222222222222222,
              "#7201a8"
             ],
             [
              0.3333333333333333,
              "#9c179e"
             ],
             [
              0.4444444444444444,
              "#bd3786"
             ],
             [
              0.5555555555555556,
              "#d8576b"
             ],
             [
              0.6666666666666666,
              "#ed7953"
             ],
             [
              0.7777777777777778,
              "#fb9f3a"
             ],
             [
              0.8888888888888888,
              "#fdca26"
             ],
             [
              1,
              "#f0f921"
             ]
            ],
            "type": "surface"
           }
          ],
          "table": [
           {
            "cells": {
             "fill": {
              "color": "#EBF0F8"
             },
             "line": {
              "color": "white"
             }
            },
            "header": {
             "fill": {
              "color": "#C8D4E3"
             },
             "line": {
              "color": "white"
             }
            },
            "type": "table"
           }
          ]
         },
         "layout": {
          "annotationdefaults": {
           "arrowcolor": "#2a3f5f",
           "arrowhead": 0,
           "arrowwidth": 1
          },
          "autotypenumbers": "strict",
          "coloraxis": {
           "colorbar": {
            "outlinewidth": 0,
            "ticks": ""
           }
          },
          "colorscale": {
           "diverging": [
            [
             0,
             "#8e0152"
            ],
            [
             0.1,
             "#c51b7d"
            ],
            [
             0.2,
             "#de77ae"
            ],
            [
             0.3,
             "#f1b6da"
            ],
            [
             0.4,
             "#fde0ef"
            ],
            [
             0.5,
             "#f7f7f7"
            ],
            [
             0.6,
             "#e6f5d0"
            ],
            [
             0.7,
             "#b8e186"
            ],
            [
             0.8,
             "#7fbc41"
            ],
            [
             0.9,
             "#4d9221"
            ],
            [
             1,
             "#276419"
            ]
           ],
           "sequential": [
            [
             0,
             "#0d0887"
            ],
            [
             0.1111111111111111,
             "#46039f"
            ],
            [
             0.2222222222222222,
             "#7201a8"
            ],
            [
             0.3333333333333333,
             "#9c179e"
            ],
            [
             0.4444444444444444,
             "#bd3786"
            ],
            [
             0.5555555555555556,
             "#d8576b"
            ],
            [
             0.6666666666666666,
             "#ed7953"
            ],
            [
             0.7777777777777778,
             "#fb9f3a"
            ],
            [
             0.8888888888888888,
             "#fdca26"
            ],
            [
             1,
             "#f0f921"
            ]
           ],
           "sequentialminus": [
            [
             0,
             "#0d0887"
            ],
            [
             0.1111111111111111,
             "#46039f"
            ],
            [
             0.2222222222222222,
             "#7201a8"
            ],
            [
             0.3333333333333333,
             "#9c179e"
            ],
            [
             0.4444444444444444,
             "#bd3786"
            ],
            [
             0.5555555555555556,
             "#d8576b"
            ],
            [
             0.6666666666666666,
             "#ed7953"
            ],
            [
             0.7777777777777778,
             "#fb9f3a"
            ],
            [
             0.8888888888888888,
             "#fdca26"
            ],
            [
             1,
             "#f0f921"
            ]
           ]
          },
          "colorway": [
           "#636efa",
           "#EF553B",
           "#00cc96",
           "#ab63fa",
           "#FFA15A",
           "#19d3f3",
           "#FF6692",
           "#B6E880",
           "#FF97FF",
           "#FECB52"
          ],
          "font": {
           "color": "#2a3f5f"
          },
          "geo": {
           "bgcolor": "white",
           "lakecolor": "white",
           "landcolor": "#E5ECF6",
           "showlakes": true,
           "showland": true,
           "subunitcolor": "white"
          },
          "hoverlabel": {
           "align": "left"
          },
          "hovermode": "closest",
          "mapbox": {
           "style": "light"
          },
          "paper_bgcolor": "white",
          "plot_bgcolor": "#E5ECF6",
          "polar": {
           "angularaxis": {
            "gridcolor": "white",
            "linecolor": "white",
            "ticks": ""
           },
           "bgcolor": "#E5ECF6",
           "radialaxis": {
            "gridcolor": "white",
            "linecolor": "white",
            "ticks": ""
           }
          },
          "scene": {
           "xaxis": {
            "backgroundcolor": "#E5ECF6",
            "gridcolor": "white",
            "gridwidth": 2,
            "linecolor": "white",
            "showbackground": true,
            "ticks": "",
            "zerolinecolor": "white"
           },
           "yaxis": {
            "backgroundcolor": "#E5ECF6",
            "gridcolor": "white",
            "gridwidth": 2,
            "linecolor": "white",
            "showbackground": true,
            "ticks": "",
            "zerolinecolor": "white"
           },
           "zaxis": {
            "backgroundcolor": "#E5ECF6",
            "gridcolor": "white",
            "gridwidth": 2,
            "linecolor": "white",
            "showbackground": true,
            "ticks": "",
            "zerolinecolor": "white"
           }
          },
          "shapedefaults": {
           "line": {
            "color": "#2a3f5f"
           }
          },
          "ternary": {
           "aaxis": {
            "gridcolor": "white",
            "linecolor": "white",
            "ticks": ""
           },
           "baxis": {
            "gridcolor": "white",
            "linecolor": "white",
            "ticks": ""
           },
           "bgcolor": "#E5ECF6",
           "caxis": {
            "gridcolor": "white",
            "linecolor": "white",
            "ticks": ""
           }
          },
          "title": {
           "x": 0.05
          },
          "xaxis": {
           "automargin": true,
           "gridcolor": "white",
           "linecolor": "white",
           "ticks": "",
           "title": {
            "standoff": 15
           },
           "zerolinecolor": "white",
           "zerolinewidth": 2
          },
          "yaxis": {
           "automargin": true,
           "gridcolor": "white",
           "linecolor": "white",
           "ticks": "",
           "title": {
            "standoff": 15
           },
           "zerolinecolor": "white",
           "zerolinewidth": 2
          }
         }
        },
        "title": {
         "text": "Relação entre Renda Familiar e Notas do ENEM 2023",
         "x": 0.5,
         "xanchor": "center"
        },
        "width": 800,
        "xaxis": {
         "anchor": "y",
         "categoryorder": "category ascending",
         "domain": [
          0,
          1
         ],
         "title": {
          "text": "Faixa de Renda Familiar"
         }
        },
        "yaxis": {
         "anchor": "x",
         "domain": [
          0,
          1
         ],
         "dtick": 100,
         "tick0": 0,
         "tickformat": "d",
         "title": {
          "text": "Nota Média"
         }
        }
       }
      }
     },
     "metadata": {},
     "output_type": "display_data"
    }
   ],
   "source": [
    "\n",
    "# Create a DataFrame for plotting\n",
    "plot_data = avg_score_by_income.melt(id_vars='range_receita', \n",
    "                                                    value_vars=['NU_NOTA_CN', 'NU_NOTA_CH', 'NU_NOTA_LC', 'NU_NOTA_MT', 'NU_NOTA_REDACAO'], \n",
    "                                                    var_name='Disciplina', \n",
    "                                                    value_name='Nota Média')\n",
    "\n",
    "# Rename columns for better readability\n",
    "plot_data['Disciplina'] = plot_data['Disciplina'].map({\n",
    "    'NU_NOTA_CN': 'Ciências da Natureza',\n",
    "    'NU_NOTA_CH': 'Ciências Humanas',\n",
    "    'NU_NOTA_LC': 'Linguagens e Códigos',\n",
    "    'NU_NOTA_MT': 'Matemática',\n",
    "    'NU_NOTA_REDACAO': 'Redação'\n",
    "})\n",
    "\n",
    "# Create a line plot using plotly\n",
    "fig = px.line(plot_data, \n",
    "              x='range_receita', \n",
    "              y='Nota Média', \n",
    "              color='Disciplina', \n",
    "              title='Relação entre Renda Familiar e Notas do ENEM 2023',\n",
    "              labels={'range_receita': 'Faixa de Renda Familiar', 'Nota Média': 'Nota Média'},\n",
    "              markers=True)\n",
    "\n",
    "# Update the layout for better readability\n",
    "fig.update_layout(xaxis_title='Faixa de Renda Familiar', \n",
    "                  yaxis_title='Nota Média', \n",
    "                  xaxis={'categoryorder':'category ascending'},\n",
    "                  title={'x':0.5, 'xanchor': 'center'},\n",
    "                  height=800, width=800)\n",
    "\n",
    "# Define the average income value for annotation\n",
    "average_income_label = \"03 - De R$ 1.497,01 até R$ 1.996,00\"\n",
    "# adicione uma linha vertical para a renda média, e um texto para explicar o que ela significa\n",
    "fig.add_vline(x=average_income_label, line_dash=\"dash\", line_color=\"black\")\n",
    "fig.add_annotation(x=average_income_label, y=750, text=\"Renda média (IBGE 2023)\", showarrow=False, font=dict(size=12), xshift=85)\n",
    "\n",
    "# formate o eixo y para exibir as notas como inteiros\n",
    "fig.update_yaxes(tick0=0, dtick=100, tickformat='d')\n",
    "fig.show()\n"
   ]
  },
  {
   "cell_type": "markdown",
   "metadata": {},
   "source": [
    "Há uma clara tendência de aumento nas notas conforme a renda familiar aumenta. Isso é visível em todas as disciplinas, indicando uma correlação positiva entre renda familiar e desempenho no ENEM. A maior disparidade é observada em Redação e Matemática, onde candidatos de famílias com renda mais alta apresentam uma melhora significativa nas notas de redação em comparação com aqueles de renda mais baixa."
   ]
  },
  {
   "cell_type": "markdown",
   "metadata": {},
   "source": [
    "## Conclusão"
   ]
  },
  {
   "cell_type": "markdown",
   "metadata": {},
   "source": [
    "## Referências"
   ]
  },
  {
   "cell_type": "markdown",
   "metadata": {},
   "source": [
    "## Avaliação"
   ]
  }
 ],
 "metadata": {
  "kernelspec": {
   "display_name": "analytics",
   "language": "python",
   "name": "python3"
  },
  "language_info": {
   "codemirror_mode": {
    "name": "ipython",
    "version": 3
   },
   "file_extension": ".py",
   "mimetype": "text/x-python",
   "name": "python",
   "nbconvert_exporter": "python",
   "pygments_lexer": "ipython3",
   "version": "3.12.3"
  }
 },
 "nbformat": 4,
 "nbformat_minor": 2
}
