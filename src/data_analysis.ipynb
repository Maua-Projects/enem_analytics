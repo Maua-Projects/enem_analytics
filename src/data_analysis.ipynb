{
 "cells": [
  {
   "cell_type": "markdown",
   "metadata": {},
   "source": [
    "# Enem Analytics - Análise Exploratória dos Dados\n",
    "- Ubiratan da Motta Filho R.A 20.00928-3\n",
    "- Joao Paulo M Socio 20.00704-3\n",
    "- Luan Teixeira R.A: 20.01681-6\n",
    "- Bruno Davidovitch Bertanha 20.01521-6"
   ]
  },
  {
   "cell_type": "markdown",
   "metadata": {},
   "source": [
    "## Resumo\n",
    "\n",
    "Esse notebook tem como objetivo analisar os dados sócio-demográficos do Enem de 2023, com o intuito de identificar a importância de condições sociais e econômicas na nota dos candidatos."
   ]
  },
  {
   "cell_type": "markdown",
   "metadata": {},
   "source": [
    "## Introdução\n",
    "\n",
    "O Exame Nacional do Ensino Médio (ENEM) é sem dúvidas um dos vestibulares mais importantes do país, por ser uma das principais formas de ingresso em universidades públicas, e alternativa para muitas privadas. Entretanto, vivemos em um dos países mais desiguais do mundo, e a desigualdade social e econômica pode ser um fator determinante para o desempenho dos candidatos. O estudo presente nesse notebook tem o intuito de investigar esses impactos sócio-demográficos, e entender como eles influenciam a nota dos candidatos."
   ]
  },
  {
   "cell_type": "markdown",
   "metadata": {},
   "source": [
    "## Descrição dos Dados\n",
    "\n",
    "Os dados principais utilizados nesse notebook foram extraídos do site do INEP, na seção de microdados do ENEM 2023: https://www.gov.br/inep/pt-br/acesso-a-informacao/dados-abertos/microdados/enem\n",
    "\n",
    "Ao baixar os microdados, utilizamos apenas a base MICRODADOS_ENEM_2023, que contém informações sobre os candidatos, suas notas, e suas condições sócio-demográficas. A base as seguintes colunas:\n",
    "\n",
    "- NU_INSCRICAO: Número de inscrição\n",
    "\n",
    "- NU_ANO: Ano do Enem\n",
    "- TP_FAIXA_ETARIA: Faixa etária\n",
    "- TP_SEXO: Sexo\n",
    "- TP_ESTADO_CIVIL: Estado Civil\n",
    "- TP_COR_RACA: Cor/raça\n",
    "- TP_NACIONALIDADE: Nacionalidade\n",
    "- TP_ST_CONCLUSAO: Situação de conclusão do Ensino Médio\n",
    "- TP_ANO_CONCLUIU: Ano de Conclusão do Ensino Médio\n",
    "- TP_ESCOLA: Tipo de escola do Ensino Médio\n",
    "- TP_ENSINO: Tipo de instituição que concluiu ou concluirá o Ensino Médio\n",
    "- IN_TREINEIRO: Indica se o inscrito fez a prova com intuito de apenas treinar seus conhecimentos\n",
    "- CO_MUNICIPIO_ESC: Código do município da escola\n",
    "- NO_MUNICIPIO_ESC: Nome do município da escola\n",
    "- CO_UF_ESC: Código da Unidade da Federação da escola\n",
    "- SG_UF_ESC: Sigla da Unidade da Federação da escola\n",
    "- TP_DEPENDENCIA_ADM_ESC: Dependência administrativa (Escola)\n",
    "- TP_LOCALIZACAO_ESC: Localização (Escola)\n",
    "- TP_SIT_FUNC_ESC: Situação de funcionamento (Escola)\n",
    "- CO_MUNICIPIO_PROVA: Código do município da aplicação da prova\n",
    "- NO_MUNICIPIO_PROVA: Nome do município da aplicação da prova\n",
    "- CO_UF_PROVA: Código da Unidade da Federação da aplicação da prova\n",
    "- SG_UF_PROVA: Sigla da Unidade da Federação da aplicação da prova\n",
    "- TP_PRESENCA_CN: Presença na prova objetiva de Ciências da Natureza\n",
    "- TP_PRESENCA_CH: Presença na prova objetiva de Ciências Humanas\n",
    "- TP_PRESENCA_LC: Presença na prova objetiva de Linguagens e Códigos\n",
    "- TP_PRESENCA_MT: Presença na prova objetiva de Matemática\n",
    "- CO_PROVA_CN: Código do tipo de prova de Ciências da Natureza\n",
    "- CO_PROVA_CH: Código do tipo de prova de Ciências Humanas\n",
    "- CO_PROVA_LC: Código do tipo de prova de Linguagens e Códigos\n",
    "- CO_PROVA_MT: Código do tipo de prova de Matemática\n",
    "- NU_NOTA_CN: Nota da prova de Ciências da Natureza\n",
    "- NU_NOTA_CH: Nota da prova de Ciências Humanas\n",
    "- NU_NOTA_LC: Nota da prova de Linguagens e Códigos\n",
    "- NU_NOTA_MT: Nota da prova de Matemática\n",
    "- TX_RESPOSTAS_CN: Vetor com as respostas da parte objetiva da prova de Ciências da Natureza\n",
    "- TX_RESPOSTAS_CH: Vetor com as respostas da parte objetiva da prova de Ciências Humanas\n",
    "- TX_RESPOSTAS_LC: Vetor com as respostas da parte objetiva da prova de Linguagens e Códigos\n",
    "- TX_RESPOSTAS_MT: Vetor com as respostas da parte objetiva da prova de Matemática\n",
    "- TP_LINGUA: Língua Estrangeira\n",
    "- TP_STATUS_REDACAO: Situação da redação do participante\n",
    "- NU_NOTA_COMP1: Nota da competência 1 da redação\n",
    "- NU_NOTA_COMP2: Nota da competência 2 da redação\n",
    "- NU_NOTA_COMP3: Nota da competência 3 da redação\n",
    "- NU_NOTA_COMP4: Nota da competência 4 da redação\n",
    "- NU_NOTA_COMP5: Nota da competência 5 da redação\n",
    "- NU_NOTA_REDACAO: Nota da prova de redação\n",
    "- Q001: Até que série seu pai, ou o homem responsável por você, estudou?\n",
    "- Q002: Até que série sua mãe, ou a mulher responsável por você, estudou?\n",
    "- Q003: A partir da apresentação de algumas ocupações divididas em grupos ordenados, indique o grupo que contempla a ocupação mais próxima da ocupação do seu pai ou do homem responsável por você. (Se ele não estiver trabalhando, escolha uma ocupação pensando no último trabalho dele).\n",
    "- Q004: A partir da apresentação de algumas ocupações divididas em grupos ordenados, indique o grupo que contempla a ocupação mais próxima da ocupação da sua mãe ou da mulher responsável por você. (Se ela não estiver trabalhando, escolha uma ocupação pensando no último trabalho dela).\n",
    "- Q005: Incluindo você, quantas pessoas moram atualmente em sua residência?\n",
    "- Q006: Qual é a renda mensal de sua família? (Some a sua renda com a dos seus familiares.)\n",
    "- Q007: Em sua residência trabalha empregado(a) doméstico(a)?\n",
    "- Q008: Na sua residência tem banheiro?\n",
    "- Q009: Na sua residência tem quartos para dormir?\n",
    "- Q010: Na sua residência tem carro?\n",
    "- Q011: Na sua residência tem motocicleta?\n",
    "- Q012: Na sua residência tem geladeira?\n",
    "- Q013: Na sua residência tem freezer (independente ou segunda porta da geladeira)?\n",
    "- Q014: Na sua residência tem máquina de lavar roupa? (o tanquinho NÃO deve ser considerado)\n",
    "- Q015: Na sua residência tem máquina de secar roupa (independente ou em conjunto com a máquina de lavar roupa)?\n",
    "- Q016: Na sua residência tem forno micro-ondas?\n",
    "- Q017: Na sua residência tem máquina de lavar louça?\n",
    "- Q018: Na sua residência tem aspirador de pó?\n",
    "- Q019: Na sua residência tem televisão em cores?\n",
    "- Q020: Na sua residência tem aparelho de DVD?\n",
    "- Q021: Na sua residência tem TV por assinatura?\n",
    "- Q022: Na sua residência tem telefone celular?\n",
    "- Q023: Na sua residência tem telefone fixo?\n",
    "- Q024: Na sua residência tem computador?\n",
    "- Q025: Na sua residência tem acesso à Internet?\n",
    "\n",
    "Além da base de microdados do ENEM, será utilizada uma base complementar com informações sobre o IDH dos municípios brasileiros, que foi extraída do site do Atlas Brasil: http://www.atlasbrasil.org.br/consulta/planilha"
   ]
  },
  {
   "cell_type": "markdown",
   "metadata": {},
   "source": [
    "## Aquisição e Preparação dos Dados"
   ]
  },
  {
   "cell_type": "markdown",
   "metadata": {},
   "source": [
    "## Análise\n",
    "6 perguntas"
   ]
  },
  {
   "cell_type": "markdown",
   "metadata": {},
   "source": [
    "## Conclusão"
   ]
  },
  {
   "cell_type": "markdown",
   "metadata": {},
   "source": [
    "## Referências"
   ]
  },
  {
   "cell_type": "markdown",
   "metadata": {},
   "source": [
    "## Avaliação"
   ]
  }
 ],
 "metadata": {
  "kernelspec": {
   "display_name": "analytics",
   "language": "python",
   "name": "python3"
  },
  "language_info": {
   "name": "python",
   "version": "3.12.3"
  }
 },
 "nbformat": 4,
 "nbformat_minor": 2
}
